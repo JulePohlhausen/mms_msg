{
 "cells": [
  {
   "cell_type": "code",
   "execution_count": null,
   "metadata": {
    "pycharm": {
     "name": "#%%\n"
    }
   },
   "outputs": [],
   "source": [
    "import mms_msg\n",
    "import lazy_dataset"
   ]
  },
  {
   "cell_type": "code",
   "execution_count": null,
   "metadata": {
    "pycharm": {
     "name": "#%%\n"
    }
   },
   "outputs": [],
   "source": [
    "# Create an example dataset\n",
    "input_ds = lazy_dataset.new({\n",
    "    'example1': {\n",
    "        'audio_path': '1.wav',\n",
    "        'speaker_id': 'A',\n",
    "        'num_samples': 5*8000,\n",
    "        'dataset': 'test'\n",
    "    },\n",
    "    'example2': {\n",
    "        'audio_path': '1.wav',\n",
    "        'speaker_id': 'B',\n",
    "        'num_samples': 6*8000,\n",
    "        'dataset': 'test'\n",
    "    },\n",
    "    'example3': {\n",
    "        'audio_path': '1.wav',\n",
    "        'speaker_id': 'A',\n",
    "        'num_samples': 4*8000,\n",
    "        'dataset': 'test'\n",
    "    },\n",
    "    'example4': {\n",
    "        'audio_path': '1.wav',\n",
    "        'speaker_id': 'C',\n",
    "        'num_samples': 5*8000,\n",
    "        'dataset': 'test'\n",
    "    }\n",
    "})"
   ]
  },
  {
   "cell_type": "code",
   "execution_count": null,
   "metadata": {
    "pycharm": {
     "name": "#%%\n"
    }
   },
   "outputs": [],
   "source": [
    "ds = mms_msg.sampling.source_composition.get_composition_dataset(input_ds, num_speakers=2)"
   ]
  },
  {
   "cell_type": "code",
   "execution_count": null,
   "metadata": {
    "pycharm": {
     "name": "#%%\n"
    }
   },
   "outputs": [],
   "source": [
    "def my_sampling_function(example):\n",
    "    # Get a deterministic random number generator based on the input example\n",
    "    # and an additional seed string. The seed string ensures that the RNGs\n",
    "    # differ between different sampling modules\n",
    "    rng = mms_msg.sampling.utils.rng.get_rng_example(example, 'my_sampler')\n",
    "    example['my_random_number'] = rng.random()\n",
    "    return example\n",
    "ds.map(my_sampling_function)[0]"
   ]
  },
  {
   "cell_type": "markdown",
   "metadata": {
    "pycharm": {
     "name": "#%% md\n"
    }
   },
   "source": [
    "## Example: Sample \"sequential\" (non-overlapping) mixtures"
   ]
  },
  {
   "cell_type": "code",
   "execution_count": null,
   "metadata": {
    "pycharm": {
     "name": "#%%\n"
    }
   },
   "outputs": [],
   "source": [
    "from dataclasses import dataclass\n",
    "\n",
    "@dataclass(frozen=True)\n",
    "class SequentialOffsetSampler:\n",
    "    # Parameters of the sampler\n",
    "    min_gap: int = 0\n",
    "    max_gap: int = 8000\n",
    "\n",
    "    def __post_init__(self):\n",
    "        # Validate parameters\n",
    "        assert self.min_gap >= 0, self.min_gap\n",
    "        assert self.min_gap < self.max_gap, (self.min_gap, self.max_gap)\n",
    "\n",
    "    def __call__(self, example):\n",
    "        # Get a deterministic random number generator\n",
    "        rng = mms_msg.sampling.utils.rng.get_rng_example(example, 'sequential_offset_sampler')\n",
    "\n",
    "        # Sample the offsets such that the utterances don't overlap.\n",
    "        # Sample a gap uniformly between the given min and max gap sizes\n",
    "        offsets = []\n",
    "        current_offset = 0\n",
    "        for length in example['num_samples']['original_source']:\n",
    "            current_offset += rng.uniform(self.min_gap, self.max_gap)\n",
    "            offsets.append(current_offset)\n",
    "            current_offset += length\n",
    "        mms_msg.sampling.pattern.classical.offset.assign_offset(example, offsets)\n",
    "        return example"
   ]
  },
  {
   "cell_type": "code",
   "execution_count": null,
   "metadata": {
    "pycharm": {
     "name": "#%%\n"
    }
   },
   "outputs": [],
   "source": [
    "mms_msg.visualization.plot.plot_meeting(ds.map(SequentialOffsetSampler())[0])"
   ]
  },
  {
   "cell_type": "code",
   "execution_count": null,
   "metadata": {
    "pycharm": {
     "name": "#%%\n"
    }
   },
   "outputs": [],
   "source": []
  }
 ],
 "metadata": {
  "kernelspec": {
   "display_name": "Python 3",
   "language": "python",
   "name": "python3"
  },
  "language_info": {
   "codemirror_mode": {
    "name": "ipython",
    "version": 2
   },
   "file_extension": ".py",
   "mimetype": "text/x-python",
   "name": "python",
   "nbconvert_exporter": "python",
   "pygments_lexer": "ipython2",
   "version": "2.7.6"
  }
 },
 "nbformat": 4,
 "nbformat_minor": 0
}
