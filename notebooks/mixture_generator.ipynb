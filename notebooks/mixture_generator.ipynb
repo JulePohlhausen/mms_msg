{
 "cells": [
  {
   "cell_type": "code",
   "execution_count": null,
   "id": "c0b7d40a",
   "metadata": {},
   "outputs": [],
   "source": [
    "%load_ext autoreload\n",
    "%autoreload 2"
   ]
  },
  {
   "cell_type": "code",
   "execution_count": null,
   "id": "3c79175a",
   "metadata": {},
   "outputs": [],
   "source": [
    "%matplotlib inline"
   ]
  },
  {
   "cell_type": "code",
   "execution_count": null,
   "id": "fabdae6f",
   "metadata": {},
   "outputs": [],
   "source": [
    "import paderbox as pb"
   ]
  },
  {
   "cell_type": "code",
   "execution_count": null,
   "id": "34534828",
   "metadata": {},
   "outputs": [],
   "source": [
    "from collections import defaultdict\n",
    "import itertools\n",
    "def plot_meeting(ex):\n",
    "    with pb.visualization.axes_context(columns=1, figure_size=(10, 3)) as ac:\n",
    "        activity = defaultdict(pb.array.interval.zeros)\n",
    "        speech_activity = defaultdict(pb.array.interval.zeros)\n",
    "        num_samples = pb.utils.nested.get_by_path(ex, 'num_samples.original_source', allow_early_stopping=True)\n",
    "        for o, l, s,  in zip(ex['offset']['original_source'], num_samples, ex['speaker_id']):\n",
    "            speech_activity[s][o:o+l]=True\n",
    "\n",
    "        pb.visualization.plot.activity(speech_activity, ax=ac.new)\n",
    "        \n",
    "def plot_meetings(generator_dataset, number=6, columns=3, figure_width=10):\n",
    "    with pb.visualization.axes_context(columns=columns, figure_size=(figure_width, 3)) as ac:\n",
    "        for ex in itertools.islice(generator_dataset, number):\n",
    "            activity = defaultdict(pb.array.interval.zeros)\n",
    "            num_samples = pb.utils.nested.get_by_path(ex, 'num_samples.original_source', allow_early_stopping=True)\n",
    "            for o, l, s in zip(ex['offset']['original_source'], num_samples, ex['speaker_id']):\n",
    "                activity[s][o:o+l] = True\n",
    "\n",
    "            pb.visualization.plot.activity(activity, ax=ac.new)\n",
    "\n",
    "def load_audio(example):\n",
    "    example['audio_data'] = pb.io.audioread.recursive_load_audio(example['audio_path'])\n",
    "    return example"
   ]
  },
  {
   "cell_type": "code",
   "execution_count": null,
   "id": "91a35c46",
   "metadata": {},
   "outputs": [],
   "source": [
    "import mms_msg"
   ]
  },
  {
   "cell_type": "markdown",
   "id": "29960a24",
   "metadata": {},
   "source": [
    "## Preparation: The input dataset\n",
    "The mixture/meeting generators are generic, i.e., they work with any database that contains examples of single-speaker speech.\n",
    "The input database has to have its examples in the correct format, i.e., they have to contain the correct keys.\n",
    "\n",
    "The examples have to have the following format:\n",
    " - `example_id` (`str`): The ID of the input example. Has to be unique in the input dataset\n",
    " - `num_samples` or `num_samples.observation` (`int`): The number of samples in the example\n",
    " - `speaker_id` (`str`): The ID of the speaker that uttered the speech in this example\n",
    " - `audio_path` or `audio_path.observation` (`str`): The path to the audio, will later be in `audio_path.original_source`\n",
    " \n",
    "For meeting data additionally:\n",
    " - `scenario` (`str`): An identifier that uniquely identifies a \"scenario\" that should not change for a single speaker in a meeting. E.g., in LibriSpeech the scenario should be `f\"{chapter_id}_{speaker_id}\"`. Defaults to `speaker_id`.\n",
    "\n",
    "All other keys are simply copied over from the input examples, so all information present in the input examples will be present in the generated mixtures."
   ]
  },
  {
   "cell_type": "code",
   "execution_count": null,
   "id": "d7794176",
   "metadata": {},
   "outputs": [],
   "source": [
    "# Prepare input datasets\n",
    "# TODO: remove padercontrib dependency\n",
    "from padercontrib.database.wsj import WSJ_8kHz\n",
    "input_ds = WSJ_8kHz().get_dataset('test_eval92')\n",
    "input_ds[0]"
   ]
  },
  {
   "cell_type": "markdown",
   "id": "343f7ee4",
   "metadata": {},
   "source": [
    "## Fully overlapped mixtures"
   ]
  },
  {
   "cell_type": "markdown",
   "id": "6a51fb91",
   "metadata": {},
   "source": [
    "### Like WSJ0-2mix"
   ]
  },
  {
   "cell_type": "code",
   "execution_count": null,
   "id": "885f4199",
   "metadata": {},
   "outputs": [],
   "source": [
    "# Deterministic, anechoic, no offset, like WSJ0-2mix\n",
    "\n",
    "# Compute a composition of base examples. This makes sure that the speaker distribution\n",
    "# in the mixtures is equal to the speaker distribution in the original database.\n",
    "ds = mms_msg.get_composition_dataset(input_dataset=input_ds, num_speakers=2)\n",
    "\n",
    "# If required: Offset the utterances\n",
    "ds = ds.map(mms_msg.ConstantOffsetSampler(0))\n",
    "\n",
    "# If required: Add log_weights to simulate volume differences\n",
    "ds = ds.map(mms_msg.UniformLogWeightSampler(max_weight=5))\n",
    "\n",
    "len(ds), ds[0]"
   ]
  },
  {
   "cell_type": "code",
   "execution_count": null,
   "id": "495036e4",
   "metadata": {},
   "outputs": [],
   "source": [
    "plot_meetings(ds)"
   ]
  },
  {
   "cell_type": "markdown",
   "id": "0dd6c614",
   "metadata": {},
   "source": [
    "### Like SMS-WSJ"
   ]
  },
  {
   "cell_type": "code",
   "execution_count": null,
   "id": "46323d48",
   "metadata": {},
   "outputs": [],
   "source": [
    "ds = mms_msg.get_composition_dataset(input_dataset=input_ds, num_speakers=2)\n",
    "ds = ds.map(mms_msg.SMSWSJOffsetSampler())\n",
    "ds = ds.map(mms_msg.UniformLogWeightSampler(max_weight=5))\n",
    "ds = ds.map(mms_msg.RIRSampler.from_scenarios_json('/net/db/sms_wsj/rirs/scenarios.json', 'test_eval92'))\n",
    "ds[0]"
   ]
  },
  {
   "cell_type": "code",
   "execution_count": null,
   "id": "9c113246",
   "metadata": {},
   "outputs": [],
   "source": [
    "plot_meetings(ds)"
   ]
  },
  {
   "cell_type": "code",
   "execution_count": null,
   "id": "510ad261",
   "metadata": {},
   "outputs": [],
   "source": [
    "# Load an example\n",
    "from mms_msg.scenario import multi_channel_scenario_map_fn\n",
    "ds = ds.map(load_audio).map(multi_channel_scenario_map_fn)\n",
    "ex = ds[0]\n",
    "pb.io.play(ex['audio_data']['observation'], sample_rate=8000)"
   ]
  },
  {
   "cell_type": "markdown",
   "id": "bf38a255",
   "metadata": {},
   "source": [
    "### Dynamic Mixing"
   ]
  },
  {
   "cell_type": "code",
   "execution_count": null,
   "id": "4fe9c015",
   "metadata": {},
   "outputs": [],
   "source": [
    "# Dynamic mixing: Set the rng argument to `True` to get a non-deterministic dataset that changes its contents \n",
    "# every time it is iterated. Useful if you want to train on an infinite stream of randomly generated examples\n",
    "# TODO: dynamic_ -> rng\n",
    "ds = mms_msg.get_composition_dataset(input_dataset=input_ds, num_speakers=2, rng=True)\n",
    "# only the function above this line changed from the determinstic case\n",
    "# -------------------------------------------------------------------------------------------------------------------\n",
    "# the part below this line is deterministic and equal to the cell above\n",
    "ds = ds.map(mms_msg.SMSWSJOffsetSampler())\n",
    "ds = ds.map(mms_msg.UniformLogWeightSampler(max_weight=5))"
   ]
  },
  {
   "cell_type": "code",
   "execution_count": null,
   "id": "368444fe",
   "metadata": {},
   "outputs": [],
   "source": [
    "# Check that iterating two times gives different examples\n",
    "for _ in range(2):\n",
    "    for e in ds:\n",
    "        print(e)\n",
    "        print()\n",
    "        break"
   ]
  },
  {
   "cell_type": "markdown",
   "id": "e3f127e5",
   "metadata": {},
   "source": [
    "## Generate Meetings"
   ]
  },
  {
   "cell_type": "markdown",
   "id": "86a0e521",
   "metadata": {},
   "source": [
    "### Anechoic"
   ]
  },
  {
   "cell_type": "code",
   "execution_count": null,
   "id": "6e5fd06d",
   "metadata": {},
   "outputs": [],
   "source": [
    "# Deterministic, anechoic, use the same base function as for SMS-WSJ, i.e., we have the same initial examples as SMS-WSJ\n",
    "ds = mms_msg.get_composition_dataset(input_dataset=input_ds, num_speakers=[3, 4, 5])\n",
    "ds = ds.map(mms_msg.UniformLogWeightSampler(max_weight=5))\n",
    "ds = ds.map(mms_msg.MeetingSampler(duration=60*8000)(input_ds))\n",
    "ds[0]"
   ]
  },
  {
   "cell_type": "code",
   "execution_count": null,
   "id": "72c68422",
   "metadata": {},
   "outputs": [],
   "source": [
    "plot_meetings(ds, columns=2, figure_width=20, number=6)"
   ]
  },
  {
   "cell_type": "markdown",
   "id": "9101a5b0",
   "metadata": {},
   "source": [
    "### With reverberation"
   ]
  },
  {
   "cell_type": "code",
   "execution_count": null,
   "id": "8fdd00c0",
   "metadata": {},
   "outputs": [],
   "source": [
    "# With rir, use the same base function as for SMS-WSJ, i.e., we have the same initial examples as SMS-WSJ\n",
    "import functools\n",
    "ds = mms_msg.get_composition_dataset(input_dataset=input_ds, num_speakers=[3, 4])\n",
    "ds = ds.map(mms_msg.UniformLogWeightSampler(max_weight=5))\n",
    "ds = ds.map(mms_msg.RIRSampler.from_scenarios_json('/net/db/sms_wsj/rirs/scenarios.json', 'test_eval92'))\n",
    "ds = ds.map(mms_msg.MeetingSampler(duration=60*8000)(input_ds))\n",
    "ds[0]"
   ]
  },
  {
   "cell_type": "markdown",
   "id": "0c32742f",
   "metadata": {},
   "source": [
    "### Based on LibriSpeech"
   ]
  },
  {
   "cell_type": "code",
   "execution_count": null,
   "id": "af16b517",
   "metadata": {},
   "outputs": [],
   "source": [
    "# Librispeech\n",
    "from padercontrib.database.librispeech import LibriSpeech\n",
    "\n",
    "db = LibriSpeech()\n",
    "\n",
    "# Map scenario: scenario is composed of speaker-ID and chapter-ID because the environment changes heavily between chapters\n",
    "def format_fn(example):\n",
    "    example['scenario'] = example['speaker_id'] + '_' + example['chapter_id']\n",
    "    return example\n",
    "\n",
    "librispeech_input_ds = db.get_dataset('test_clean').map(format_fn)"
   ]
  },
  {
   "cell_type": "code",
   "execution_count": null,
   "id": "39b9565e",
   "metadata": {},
   "outputs": [],
   "source": [
    "librispeech_input_ds[0]"
   ]
  },
  {
   "cell_type": "code",
   "execution_count": null,
   "id": "9bf77e05",
   "metadata": {},
   "outputs": [],
   "source": [
    "# This code is exactly the same as for WSJ, except for the input dataset and some config\n",
    "ds = mms_msg.get_composition_dataset(input_dataset=librispeech_input_ds, num_speakers=(5, 8))\n",
    "ds = ds.map(mms_msg.UniformLogWeightSampler())\n",
    "ds = ds.map(mms_msg.MeetingSampler(120*16000)(librispeech_input_ds))\n",
    "ds[0]"
   ]
  },
  {
   "cell_type": "code",
   "execution_count": null,
   "id": "aaad3475",
   "metadata": {},
   "outputs": [],
   "source": [
    "plot_meetings(ds)"
   ]
  },
  {
   "cell_type": "markdown",
   "id": "cc94332d",
   "metadata": {},
   "source": [
    "## Class-based interface idea"
   ]
  },
  {
   "cell_type": "code",
   "execution_count": null,
   "id": "65b657d7",
   "metadata": {},
   "outputs": [],
   "source": [
    "db = mms_msg.databases.WSJ8_kHz_FullOverlap()"
   ]
  },
  {
   "cell_type": "code",
   "execution_count": null,
   "id": "1bab5844",
   "metadata": {},
   "outputs": [],
   "source": [
    "db.dataset_names"
   ]
  },
  {
   "cell_type": "code",
   "execution_count": null,
   "id": "d1bfaf24",
   "metadata": {},
   "outputs": [],
   "source": [
    "db.get_dataset('cv_dev93')[0]"
   ]
  },
  {
   "cell_type": "markdown",
   "id": "9874d62d",
   "metadata": {},
   "source": [
    "## Generate JSON"
   ]
  },
  {
   "cell_type": "code",
   "execution_count": null,
   "id": "5b593a72",
   "metadata": {},
   "outputs": [],
   "source": [
    "from tqdm.notebook import tqdm\n",
    "database_dict = {'datasets': {dataset_name: dict(tqdm(db.get_dataset(dataset_name).items(), desc=dataset_name)) for dataset_name in db.dataset_names}}\n",
    "pb.io.dump(database_dict, 'wsj_full_overlap.json')"
   ]
  },
  {
   "cell_type": "code",
   "execution_count": null,
   "id": "c34d3326",
   "metadata": {},
   "outputs": [],
   "source": []
  }
 ],
 "metadata": {
  "kernelspec": {
   "display_name": "Python (padertorch)",
   "language": "python",
   "name": "padertorch"
  },
  "language_info": {
   "codemirror_mode": {
    "name": "ipython",
    "version": 3
   },
   "file_extension": ".py",
   "mimetype": "text/x-python",
   "name": "python",
   "nbconvert_exporter": "python",
   "pygments_lexer": "ipython3",
   "version": "3.8.5"
  }
 },
 "nbformat": 4,
 "nbformat_minor": 5
}